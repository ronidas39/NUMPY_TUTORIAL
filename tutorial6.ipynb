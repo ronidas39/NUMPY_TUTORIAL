{
 "cells": [
  {
   "cell_type": "markdown",
   "metadata": {},
   "source": [
    "# tutorial 6"
   ]
  },
  {
   "cell_type": "code",
   "execution_count": 25,
   "metadata": {},
   "outputs": [],
   "source": [
    "import numpy as np"
   ]
  },
  {
   "cell_type": "code",
   "execution_count": 34,
   "metadata": {},
   "outputs": [
    {
     "data": {
      "text/plain": [
       "array([0, 1, 2, 3, 4, 5, 6, 7, 8, 9])"
      ]
     },
     "execution_count": 34,
     "metadata": {},
     "output_type": "execute_result"
    }
   ],
   "source": [
    "#np.arange with deafult start and step\n",
    "a=np.arange(10)\n",
    "a"
   ]
  },
  {
   "cell_type": "code",
   "execution_count": 40,
   "metadata": {},
   "outputs": [
    {
     "data": {
      "text/plain": [
       "array([5. , 7.6])"
      ]
     },
     "execution_count": 40,
     "metadata": {},
     "output_type": "execute_result"
    }
   ],
   "source": [
    "#np.arange with start and step mentioned\n",
    "a=np.arange(5,10,2)\n",
    "a"
   ]
  },
  {
   "cell_type": "code",
   "execution_count": 38,
   "metadata": {},
   "outputs": [
    {
     "data": {
      "text/plain": [
       "array([ 1,  2,  3,  4,  5,  6,  7,  8,  9, 10, 11, 12, 13, 14, 15, 16, 17,\n",
       "       18, 19])"
      ]
     },
     "execution_count": 38,
     "metadata": {},
     "output_type": "execute_result"
    }
   ],
   "source": [
    "#np.arange with custom start and default step\n",
    "a=np.arange(start=1,stop=20)\n",
    "a"
   ]
  },
  {
   "cell_type": "code",
   "execution_count": 42,
   "metadata": {},
   "outputs": [
    {
     "data": {
      "text/plain": [
       "array([5.  , 5.02, 5.04, 5.06, 5.08, 5.1 , 5.12, 5.14, 5.16, 5.18, 5.2 ,\n",
       "       5.22, 5.24, 5.26, 5.28, 5.3 , 5.32, 5.34, 5.36, 5.38, 5.4 , 5.42,\n",
       "       5.44, 5.46, 5.48, 5.5 , 5.52, 5.54, 5.56, 5.58, 5.6 , 5.62, 5.64,\n",
       "       5.66, 5.68, 5.7 , 5.72, 5.74, 5.76, 5.78, 5.8 , 5.82, 5.84, 5.86,\n",
       "       5.88, 5.9 , 5.92, 5.94, 5.96, 5.98, 6.  , 6.02, 6.04, 6.06, 6.08,\n",
       "       6.1 , 6.12, 6.14, 6.16, 6.18, 6.2 , 6.22, 6.24, 6.26, 6.28, 6.3 ,\n",
       "       6.32, 6.34, 6.36, 6.38, 6.4 , 6.42, 6.44, 6.46, 6.48, 6.5 , 6.52,\n",
       "       6.54, 6.56, 6.58, 6.6 , 6.62, 6.64, 6.66, 6.68, 6.7 , 6.72, 6.74,\n",
       "       6.76, 6.78, 6.8 , 6.82, 6.84, 6.86, 6.88, 6.9 , 6.92, 6.94, 6.96,\n",
       "       6.98, 7.  , 7.02, 7.04, 7.06, 7.08, 7.1 , 7.12, 7.14, 7.16, 7.18,\n",
       "       7.2 , 7.22, 7.24, 7.26, 7.28, 7.3 , 7.32, 7.34, 7.36, 7.38, 7.4 ,\n",
       "       7.42, 7.44, 7.46, 7.48, 7.5 , 7.52, 7.54, 7.56, 7.58, 7.6 , 7.62,\n",
       "       7.64, 7.66, 7.68, 7.7 , 7.72, 7.74, 7.76, 7.78, 7.8 , 7.82, 7.84,\n",
       "       7.86, 7.88, 7.9 , 7.92, 7.94, 7.96, 7.98, 8.  , 8.02, 8.04, 8.06,\n",
       "       8.08, 8.1 , 8.12, 8.14, 8.16, 8.18, 8.2 , 8.22, 8.24, 8.26, 8.28,\n",
       "       8.3 , 8.32, 8.34, 8.36, 8.38, 8.4 , 8.42, 8.44, 8.46, 8.48, 8.5 ,\n",
       "       8.52, 8.54, 8.56, 8.58, 8.6 , 8.62, 8.64, 8.66, 8.68, 8.7 , 8.72,\n",
       "       8.74, 8.76, 8.78, 8.8 , 8.82, 8.84, 8.86, 8.88, 8.9 , 8.92, 8.94,\n",
       "       8.96, 8.98, 9.  , 9.02, 9.04, 9.06, 9.08, 9.1 , 9.12, 9.14, 9.16,\n",
       "       9.18, 9.2 , 9.22, 9.24, 9.26, 9.28, 9.3 , 9.32, 9.34, 9.36, 9.38,\n",
       "       9.4 , 9.42, 9.44, 9.46, 9.48, 9.5 , 9.52, 9.54, 9.56, 9.58, 9.6 ,\n",
       "       9.62, 9.64, 9.66, 9.68, 9.7 , 9.72, 9.74, 9.76, 9.78, 9.8 , 9.82,\n",
       "       9.84, 9.86, 9.88, 9.9 , 9.92, 9.94, 9.96, 9.98])"
      ]
     },
     "execution_count": 42,
     "metadata": {},
     "output_type": "execute_result"
    }
   ],
   "source": [
    "#np.arange with start and step mentioned in float\n",
    "a=np.arange(5,10,.02)\n",
    "a"
   ]
  },
  {
   "cell_type": "code",
   "execution_count": 69,
   "metadata": {},
   "outputs": [],
   "source": [
    "#np.linspace with endpoint flase\n",
    "a=np.linspace(1,100,10,endpoint=False)"
   ]
  },
  {
   "cell_type": "code",
   "execution_count": 68,
   "metadata": {},
   "outputs": [
    {
     "data": {
      "text/plain": [
       "array([ 1. , 10.9, 20.8, 30.7, 40.6, 50.5, 60.4, 70.3, 80.2, 90.1])"
      ]
     },
     "execution_count": 68,
     "metadata": {},
     "output_type": "execute_result"
    }
   ],
   "source": [
    "a"
   ]
  },
  {
   "cell_type": "code",
   "execution_count": 71,
   "metadata": {},
   "outputs": [
    {
     "data": {
      "text/plain": [
       "array([  1.,  12.,  23.,  34.,  45.,  56.,  67.,  78.,  89., 100.])"
      ]
     },
     "execution_count": 71,
     "metadata": {},
     "output_type": "execute_result"
    }
   ],
   "source": [
    "#np.linspace with endpoint true by default\n",
    "a=np.linspace(1,100,10)\n",
    "a"
   ]
  },
  {
   "cell_type": "code",
   "execution_count": 72,
   "metadata": {},
   "outputs": [],
   "source": []
  },
  {
   "cell_type": "code",
   "execution_count": null,
   "metadata": {},
   "outputs": [],
   "source": []
  }
 ],
 "metadata": {
  "kernelspec": {
   "display_name": "Python 3",
   "language": "python",
   "name": "python3"
  },
  "language_info": {
   "codemirror_mode": {
    "name": "ipython",
    "version": 3
   },
   "file_extension": ".py",
   "mimetype": "text/x-python",
   "name": "python",
   "nbconvert_exporter": "python",
   "pygments_lexer": "ipython3",
   "version": "3.7.1"
  }
 },
 "nbformat": 4,
 "nbformat_minor": 2
}
