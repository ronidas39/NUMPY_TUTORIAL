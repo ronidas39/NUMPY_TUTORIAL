{
 "cells": [
  {
   "cell_type": "markdown",
   "metadata": {},
   "source": [
    "# tutorial 12\n"
   ]
  },
  {
   "cell_type": "markdown",
   "metadata": {},
   "source": [
    "# generate numpy array from csv file "
   ]
  },
  {
   "cell_type": "code",
   "execution_count": 10,
   "metadata": {},
   "outputs": [],
   "source": [
    "import numpy as np\n",
    "from io import StringIO\n",
    "import io\n",
    "with io.open(\"numpy.txt\")as f1:\n",
    "    data=f1.read()\n",
    "    f1.close()\n",
    "a=np.genfromtxt(StringIO(data),delimiter=\",\")\n",
    "#if delimiter is pipe\n",
    "with io.open(\"numpy.txt\")as f1:\n",
    "    data=f1.read()\n",
    "    f1.close()\n",
    "a=np.genfromtxt(StringIO(data),delimiter=\"|\")"
   ]
  },
  {
   "cell_type": "code",
   "execution_count": 17,
   "metadata": {},
   "outputs": [],
   "source": [
    "#if delimiter is pipe\n",
    "\n",
    "with io.open(\"numpy.txt\")as f1:\n",
    "    data=f1.read()\n",
    "    f1.close()\n",
    "a=np.genfromtxt(StringIO(data),delimiter=\"|\")"
   ]
  },
  {
   "cell_type": "code",
   "execution_count": null,
   "metadata": {},
   "outputs": [],
   "source": []
  }
 ],
 "metadata": {
  "kernelspec": {
   "display_name": "Python 3",
   "language": "python",
   "name": "python3"
  },
  "language_info": {
   "codemirror_mode": {
    "name": "ipython",
    "version": 3
   },
   "file_extension": ".py",
   "mimetype": "text/x-python",
   "name": "python",
   "nbconvert_exporter": "python",
   "pygments_lexer": "ipython3",
   "version": "3.7.1"
  }
 },
 "nbformat": 4,
 "nbformat_minor": 2
}
