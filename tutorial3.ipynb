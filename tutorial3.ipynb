{
 "cells": [
  {
   "cell_type": "markdown",
   "metadata": {},
   "source": [
    "# tutorial 3"
   ]
  },
  {
   "cell_type": "code",
   "execution_count": 22,
   "metadata": {},
   "outputs": [
    {
     "data": {
      "text/plain": [
       "(3,)"
      ]
     },
     "execution_count": 22,
     "metadata": {},
     "output_type": "execute_result"
    }
   ],
   "source": [
    "#1d array\n",
    "a=np.array([1,2,3])\n",
    "a.shape"
   ]
  },
  {
   "cell_type": "code",
   "execution_count": 23,
   "metadata": {},
   "outputs": [],
   "source": [
    "#2d array\n",
    "#every element in a 2d array itself a 1d array\n",
    "\n",
    "b=np.array([ a,a,a     ])\n"
   ]
  },
  {
   "cell_type": "code",
   "execution_count": 24,
   "metadata": {},
   "outputs": [
    {
     "data": {
      "text/plain": [
       "array([[1, 2, 3],\n",
       "       [1, 2, 3],\n",
       "       [1, 2, 3]])"
      ]
     },
     "execution_count": 24,
     "metadata": {},
     "output_type": "execute_result"
    }
   ],
   "source": [
    "b"
   ]
  },
  {
   "cell_type": "code",
   "execution_count": 25,
   "metadata": {},
   "outputs": [
    {
     "data": {
      "text/plain": [
       "(3, 3)"
      ]
     },
     "execution_count": 25,
     "metadata": {},
     "output_type": "execute_result"
    }
   ],
   "source": [
    "#how many (2-1)=1 d array\n",
    "b.shape"
   ]
  },
  {
   "cell_type": "code",
   "execution_count": 26,
   "metadata": {},
   "outputs": [],
   "source": [
    "#3darray\n",
    "#every element in a 2d array itself a 1d array\n",
    "c=np.array([ b,b    ])"
   ]
  },
  {
   "cell_type": "code",
   "execution_count": 27,
   "metadata": {},
   "outputs": [
    {
     "data": {
      "text/plain": [
       "array([[[1, 2, 3],\n",
       "        [1, 2, 3],\n",
       "        [1, 2, 3]],\n",
       "\n",
       "       [[1, 2, 3],\n",
       "        [1, 2, 3],\n",
       "        [1, 2, 3]]])"
      ]
     },
     "execution_count": 27,
     "metadata": {},
     "output_type": "execute_result"
    }
   ],
   "source": [
    "c"
   ]
  },
  {
   "cell_type": "code",
   "execution_count": null,
   "metadata": {},
   "outputs": [],
   "source": [
    "#how many 2d array ,in every 2d array how many 1d array , in each 1d array how many elements."
   ]
  },
  {
   "cell_type": "code",
   "execution_count": 28,
   "metadata": {},
   "outputs": [
    {
     "data": {
      "text/plain": [
       "(2, 3, 3)"
      ]
     },
     "execution_count": 28,
     "metadata": {},
     "output_type": "execute_result"
    }
   ],
   "source": [
    "c.shape"
   ]
  },
  {
   "cell_type": "code",
   "execution_count": null,
   "metadata": {},
   "outputs": [],
   "source": [
    "(2,3,3)"
   ]
  },
  {
   "cell_type": "code",
   "execution_count": 29,
   "metadata": {},
   "outputs": [],
   "source": [
    "#4d array\n",
    "#every element in a 4d array itself a 3d array\n",
    "d=np.array([c,c,c])"
   ]
  },
  {
   "cell_type": "code",
   "execution_count": 32,
   "metadata": {},
   "outputs": [
    {
     "data": {
      "text/plain": [
       "(3, 2, 3, 3)"
      ]
     },
     "execution_count": 32,
     "metadata": {},
     "output_type": "execute_result"
    }
   ],
   "source": [
    "#how many 3d arrays ,in every 3d array how many 2d array ,in every 2d array how many 1d array , in each 1d array how many elements.\n",
    "d.shape"
   ]
  },
  {
   "cell_type": "code",
   "execution_count": 31,
   "metadata": {},
   "outputs": [
    {
     "data": {
      "text/plain": [
       "array([[[[1, 2, 3],\n",
       "         [1, 2, 3],\n",
       "         [1, 2, 3]],\n",
       "\n",
       "        [[1, 2, 3],\n",
       "         [1, 2, 3],\n",
       "         [1, 2, 3]]],\n",
       "\n",
       "\n",
       "       [[[1, 2, 3],\n",
       "         [1, 2, 3],\n",
       "         [1, 2, 3]],\n",
       "\n",
       "        [[1, 2, 3],\n",
       "         [1, 2, 3],\n",
       "         [1, 2, 3]]],\n",
       "\n",
       "\n",
       "       [[[1, 2, 3],\n",
       "         [1, 2, 3],\n",
       "         [1, 2, 3]],\n",
       "\n",
       "        [[1, 2, 3],\n",
       "         [1, 2, 3],\n",
       "         [1, 2, 3]]]])"
      ]
     },
     "execution_count": 31,
     "metadata": {},
     "output_type": "execute_result"
    }
   ],
   "source": [
    "(3,2,3,3)"
   ]
  },
  {
   "cell_type": "code",
   "execution_count": 33,
   "metadata": {},
   "outputs": [],
   "source": [
    "#5d array\n",
    "#every element in a 5d array itself a 4d array\n",
    "e=np.array([d,d])\n"
   ]
  },
  {
   "cell_type": "code",
   "execution_count": 34,
   "metadata": {},
   "outputs": [
    {
     "data": {
      "text/plain": [
       "5"
      ]
     },
     "execution_count": 34,
     "metadata": {},
     "output_type": "execute_result"
    }
   ],
   "source": [
    "e.ndim"
   ]
  },
  {
   "cell_type": "code",
   "execution_count": 35,
   "metadata": {},
   "outputs": [
    {
     "data": {
      "text/plain": [
       "array([[[[[1, 2, 3],\n",
       "          [1, 2, 3],\n",
       "          [1, 2, 3]],\n",
       "\n",
       "         [[1, 2, 3],\n",
       "          [1, 2, 3],\n",
       "          [1, 2, 3]]],\n",
       "\n",
       "\n",
       "        [[[1, 2, 3],\n",
       "          [1, 2, 3],\n",
       "          [1, 2, 3]],\n",
       "\n",
       "         [[1, 2, 3],\n",
       "          [1, 2, 3],\n",
       "          [1, 2, 3]]],\n",
       "\n",
       "\n",
       "        [[[1, 2, 3],\n",
       "          [1, 2, 3],\n",
       "          [1, 2, 3]],\n",
       "\n",
       "         [[1, 2, 3],\n",
       "          [1, 2, 3],\n",
       "          [1, 2, 3]]]],\n",
       "\n",
       "\n",
       "\n",
       "       [[[[1, 2, 3],\n",
       "          [1, 2, 3],\n",
       "          [1, 2, 3]],\n",
       "\n",
       "         [[1, 2, 3],\n",
       "          [1, 2, 3],\n",
       "          [1, 2, 3]]],\n",
       "\n",
       "\n",
       "        [[[1, 2, 3],\n",
       "          [1, 2, 3],\n",
       "          [1, 2, 3]],\n",
       "\n",
       "         [[1, 2, 3],\n",
       "          [1, 2, 3],\n",
       "          [1, 2, 3]]],\n",
       "\n",
       "\n",
       "        [[[1, 2, 3],\n",
       "          [1, 2, 3],\n",
       "          [1, 2, 3]],\n",
       "\n",
       "         [[1, 2, 3],\n",
       "          [1, 2, 3],\n",
       "          [1, 2, 3]]]]])"
      ]
     },
     "execution_count": 35,
     "metadata": {},
     "output_type": "execute_result"
    }
   ],
   "source": [
    "e"
   ]
  },
  {
   "cell_type": "code",
   "execution_count": null,
   "metadata": {},
   "outputs": [],
   "source": [
    "#how many 4d array ,in every 4d array how many 3d arrays ,in every 3d array how many 2d array ,in every 2d array how many 1d array , in each 1d array how many elements."
   ]
  },
  {
   "cell_type": "code",
   "execution_count": 36,
   "metadata": {},
   "outputs": [
    {
     "data": {
      "text/plain": [
       "(2, 3, 2, 3, 3)"
      ]
     },
     "execution_count": 36,
     "metadata": {},
     "output_type": "execute_result"
    }
   ],
   "source": [
    "e.shape"
   ]
  },
  {
   "cell_type": "code",
   "execution_count": null,
   "metadata": {},
   "outputs": [],
   "source": []
  }
 ],
 "metadata": {
  "kernelspec": {
   "display_name": "Python 3",
   "language": "python",
   "name": "python3"
  },
  "language_info": {
   "codemirror_mode": {
    "name": "ipython",
    "version": 3
   },
   "file_extension": ".py",
   "mimetype": "text/x-python",
   "name": "python",
   "nbconvert_exporter": "python",
   "pygments_lexer": "ipython3",
   "version": "3.7.1"
  }
 },
 "nbformat": 4,
 "nbformat_minor": 2
}
